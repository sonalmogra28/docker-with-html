{
 "cells": [
  {
   "cell_type": "markdown",
   "id": "729f81f0",
   "metadata": {},
   "source": [
    "# Task Description 📄\n",
    "\n",
    "❄️ Create a program that performs the below-mentioned task upon recognizing a particular face.\n",
    "\n",
    "📌 When it recognize your face then -\n",
    "👉 It sends mail to your mail-id by writing this is the face of your_name.\n",
    "👉 Second, it sends a WhatsApp message to your friend, it can be anything.\n",
    "\n",
    "📌 When it recognizes the second face, it can be your friend or family member's face.\n",
    "👉 Create EC2 instance in the AWS using CLI.\n",
    "👉 Create 5GB EBS volume and attach it to the instance."
   ]
  },
  {
   "cell_type": "markdown",
   "id": "8acca251",
   "metadata": {},
   "source": [
    "# STEP1:CREATE SAMPLES USING CV2"
   ]
  },
  {
   "cell_type": "code",
   "execution_count": 1,
   "id": "cea5b258",
   "metadata": {},
   "outputs": [
    {
     "name": "stderr",
     "output_type": "stream",
     "text": [
      "<>:16: SyntaxWarning: \"is\" with a literal. Did you mean \"==\"?\n",
      "<>:16: SyntaxWarning: \"is\" with a literal. Did you mean \"==\"?\n",
      "<ipython-input-1-3a6ffc0c5968>:16: SyntaxWarning: \"is\" with a literal. Did you mean \"==\"?\n",
      "  if faces is ():\n"
     ]
    },
    {
     "name": "stdout",
     "output_type": "stream",
     "text": [
      "Collecting Samples Complete\n"
     ]
    }
   ],
   "source": [
    "#TASK 6\n",
    "import cv2\n",
    "import numpy as np\n",
    "\n",
    "# Load HAAR face classifier\n",
    "face_classifier = cv2.CascadeClassifier('haarcascade_frontalface_default.xml')\n",
    "\n",
    "# Load functions\n",
    "def face_extractor(img):\n",
    "    # Function detects faces and returns the cropped face\n",
    "    # If no face detected, it returns the input image\n",
    "    \n",
    "    gray = cv2.cvtColor(img,cv2.COLOR_BGR2GRAY)\n",
    "    faces = face_classifier.detectMultiScale(gray, 1.3, 5)\n",
    "    \n",
    "    if faces is ():\n",
    "        return None\n",
    "    \n",
    "    # Crop all faces found\n",
    "    for (x,y,w,h) in faces:\n",
    "        cropped_face = img[y:y+h, x:x+w]\n",
    "\n",
    "    return cropped_face\n",
    "\n",
    "# Initialize Webcam\n",
    "cap = cv2.VideoCapture(0)\n",
    "count = 0\n",
    "\n",
    "# Collect 100 samples of your face from webcam input\n",
    "while True:\n",
    "\n",
    "    ret, frame = cap.read()\n",
    "    if face_extractor(frame) is not None:\n",
    "        count += 1\n",
    "        face = cv2.resize(face_extractor(frame), (200, 200))\n",
    "        face = cv2.cvtColor(face, cv2.COLOR_BGR2GRAY)\n",
    "\n",
    "        # Save file in specified directory with unique name\n",
    "        file_name_path = './faces/sonal/' + str(count) + '.jpg'\n",
    "        cv2.imwrite(file_name_path, face)\n",
    "\n",
    "        # Put count on images and display live count\n",
    "        cv2.putText(face, str(count), (50, 50), cv2.FONT_HERSHEY_COMPLEX, 1, (0,255,0), 2)\n",
    "        cv2.imshow('Face Cropper', face)\n",
    "        \n",
    "    else:\n",
    "        print(\"Face not found\")\n",
    "        pass\n",
    "\n",
    "    if cv2.waitKey(1) == 13 or count == 100: #13 is the Enter Key\n",
    "        break\n",
    "        \n",
    "cap.release()\n",
    "cv2.destroyAllWindows()      \n",
    "print(\"Collecting Samples Complete\")"
   ]
  },
  {
   "cell_type": "markdown",
   "id": "6434418b",
   "metadata": {},
   "source": [
    "# STEP2:TRAIN YOUR MODEL"
   ]
  },
  {
   "cell_type": "code",
   "execution_count": 2,
   "id": "7ff4457a",
   "metadata": {},
   "outputs": [
    {
     "name": "stdout",
     "output_type": "stream",
     "text": [
      "heyy!!!Model trained sucessefully\n"
     ]
    }
   ],
   "source": [
    "import cv2\n",
    "import numpy as np\n",
    "from os import listdir\n",
    "from os.path import isfile, join\n",
    "\n",
    "# Get the training data we previously made\n",
    "data_path = './faces/sonal/'\n",
    "onlyfiles = [f for f in listdir(data_path) if isfile(join(data_path, f))]\n",
    "\n",
    "# Create arrays for training data and labels\n",
    "Training_Data, Labels = [], []\n",
    "\n",
    "# Open training images in our datapath\n",
    "# Create a numpy array for training data\n",
    "for i, files in enumerate(onlyfiles):\n",
    "    image_path = data_path + onlyfiles[i]\n",
    "    images = cv2.imread(image_path, cv2.IMREAD_GRAYSCALE)\n",
    "    Training_Data.append(np.asarray(images, dtype=np.uint8))\n",
    "    Labels.append(i)\n",
    "\n",
    "# Create a numpy array for both training data and labels\n",
    "Labels = np.asarray(Labels, dtype=np.int32)\n",
    "\n",
    "# Initialize facial recognizer\n",
    "# model = cv2.face.createLBPHFaceRecognizer()\n",
    "# NOTE: For OpenCV 3.0 use cv2.face.createLBPHFaceRecognizer()\n",
    "# pip install opencv-contrib-python\n",
    "# model = cv2.createLBPHFaceRecognizer()\n",
    "\n",
    "model  = cv2.face_LBPHFaceRecognizer.create()\n",
    "# Let's train our model \n",
    "model.train(np.asarray(Training_Data), np.asarray(Labels))\n",
    "print(\"heyy!!!Model trained sucessefully\")\n"
   ]
  },
  {
   "cell_type": "markdown",
   "id": "7bbb02df",
   "metadata": {},
   "source": [
    "# STEP3:SENDING MESSAGE VIA WHATSAPP AFTER RECOGNISING THE FACE AS PER THE TRAINED MODEL"
   ]
  },
  {
   "cell_type": "code",
   "execution_count": 3,
   "id": "c2eaec58",
   "metadata": {},
   "outputs": [
    {
     "name": "stderr",
     "output_type": "stream",
     "text": [
      "<>:14: SyntaxWarning: \"is\" with a literal. Did you mean \"==\"?\n",
      "<>:14: SyntaxWarning: \"is\" with a literal. Did you mean \"==\"?\n",
      "<ipython-input-3-0893f289ec7c>:14: SyntaxWarning: \"is\" with a literal. Did you mean \"==\"?\n",
      "  if faces is ():\n"
     ]
    },
    {
     "name": "stdout",
     "output_type": "stream",
     "text": [
      "In 17 seconds web.whatsapp.com will open and after 20 seconds message will be delivered\n"
     ]
    }
   ],
   "source": [
    "import cv2\n",
    "import numpy as np\n",
    "import os\n",
    "import pywhatkit as p\n",
    "\n",
    "\n",
    "face_classifier = cv2.CascadeClassifier('haarcascade_frontalface_default.xml')\n",
    "\n",
    "def face_detector(img, size=0.5):\n",
    "    \n",
    "    # Convert image to grayscale\n",
    "    gray = cv2.cvtColor(img,cv2.COLOR_BGR2GRAY)\n",
    "    faces = face_classifier.detectMultiScale(gray, 1.3, 5)\n",
    "    if faces is ():\n",
    "        return img, []\n",
    "    \n",
    "    \n",
    "    for (x,y,w,h) in faces:\n",
    "        cv2.rectangle(img,(x,y),(x+w,y+h),(0,255,255),2)\n",
    "        roi = img[y:y+h, x:x+w]\n",
    "        roi = cv2.resize(roi, (200, 200))\n",
    "    return img, roi\n",
    "\n",
    "\n",
    "# Open Webcam\n",
    "cap = cv2.VideoCapture(0)\n",
    "\n",
    "while True:\n",
    "\n",
    "    ret, frame = cap.read()\n",
    "    \n",
    "    image, face = face_detector(frame)\n",
    "    \n",
    "    try:\n",
    "        face = cv2.cvtColor(face, cv2.COLOR_BGR2GRAY)\n",
    "\n",
    "        # Pass face to prediction model\n",
    "        # \"results\" comprises of a tuple containing the label and the confidence value\n",
    "        results = model.predict(face)\n",
    "        # harry_model.predict(face)\n",
    "        \n",
    "        if results[1] < 500:\n",
    "            confidence = int( 100 * (1 - (results[1])/400) )\n",
    "            display_string = str(confidence) + '% Confident it is User'\n",
    "            \n",
    "        cv2.putText(image, display_string, (100, 120), cv2.FONT_HERSHEY_COMPLEX, 1, (255,120,150), 2)\n",
    "        \n",
    "        if confidence > 85:\n",
    "            cv2.putText(image, \"Heyy sonal\", (250, 450), cv2.FONT_HERSHEY_COMPLEX, 1, (0,255,0), 2)\n",
    "            cv2.imshow('Face Recognition', image)\n",
    "            p.sendwhatmsg(\"mobile number\" , \"Hey this is my first python e-generated message,nothing much :)\" ,7,32)\n",
    "            break\n",
    "            \n",
    "         \n",
    "        else:\n",
    "            \n",
    "            cv2.putText(image, \"I dont know, how r u\", (250, 450), cv2.FONT_HERSHEY_COMPLEX, 1, (0,0,255), 2)\n",
    "            cv2.imshow('Face Recognition', image )\n",
    "\n",
    "    except:\n",
    "        cv2.putText(image, \"No Face Found\", (220, 120) , cv2.FONT_HERSHEY_COMPLEX, 1, (0,0,255), 2)\n",
    "        cv2.putText(image, \"looking for face\", (250, 450), cv2.FONT_HERSHEY_COMPLEX, 1, (0,0,255), 2)\n",
    "        cv2.imshow('Face Recognition', image )\n",
    "        pass\n",
    "        \n",
    "    if cv2.waitKey(1) == 13: #13 is the Enter Key\n",
    "        break\n",
    "        \n",
    "cap.release()\n",
    "cv2.destroyAllWindows()        \n",
    "     "
   ]
  },
  {
   "cell_type": "markdown",
   "id": "8cde1e2c",
   "metadata": {},
   "source": [
    "# STEP4:SENDING MAIL"
   ]
  },
  {
   "cell_type": "code",
   "execution_count": 4,
   "id": "8577ed3c",
   "metadata": {},
   "outputs": [],
   "source": [
    "def mail():\n",
    "    import smtplib\n",
    "    import imghdr\n",
    "    from email.message import EmailMessage\n",
    "    import getpass\n",
    "\n",
    "\n",
    "  \n",
    "    Sender_Email = \"sonalmogra.888@gmail.com\"\n",
    "  \n",
    "    Reciever_Email = \"nidhimogra.88@gmail.com\"\n",
    "    Password = getpass.getpass(prompt=\"Enter your Password: \", stream=None)\n",
    "\n",
    " \n",
    "    \n",
    "    newMessage = EmailMessage()                         \n",
    "    newMessage['Subject'] = \"Alert Message.\" \n",
    "    newMessage['From'] = Sender_Email                   \n",
    "    newMessage['To'] = Reciever_Email                   \n",
    "    newMessage.set_content('security alert face detecd. Someone is trying to use your system please check the face..')\n",
    "\n",
    "    with open('./faces/sonal/1.jpg', 'rb') as f:\n",
    "        image_data = f.read()\n",
    "        image_type = imghdr.what(f.name)\n",
    "        image_name = f.name\n",
    "\n",
    "    newMessage.add_attachment(image_data, maintype='image', subtype=image_type, filename=image_name)\n",
    "\n",
    "    with smtplib.SMTP_SSL('smtp.gmail.com', 465) as smtp:\n",
    "\n",
    "        smtp.login(Sender_Email, Password)    \n",
    "        smtp.send_message(newMessage) \n",
    "\n",
    "    print(\"\\t\\t\\t\\n==>===>=====>=====>====>====> Mail Successfully Sent <=====<=====<====<=====<======<======<===\\n\")    "
   ]
  },
  {
   "cell_type": "code",
   "execution_count": 5,
   "id": "e0f9e791",
   "metadata": {},
   "outputs": [
    {
     "name": "stdout",
     "output_type": "stream",
     "text": [
      "Enter your Password: ········\n",
      "\t\t\t\n",
      "==>===>=====>=====>====>====> Mail Successfully Sent <=====<=====<====<=====<======<======<===\n",
      "\n"
     ]
    }
   ],
   "source": [
    "mail()"
   ]
  },
  {
   "cell_type": "markdown",
   "id": "b46a6726",
   "metadata": {},
   "source": [
    "# STEP5:CREATING AWS INSTANCE WITH 5GB EBS VOLUME "
   ]
  },
  {
   "cell_type": "code",
   "execution_count": 6,
   "id": "c8887a5b",
   "metadata": {},
   "outputs": [
    {
     "name": "stderr",
     "output_type": "stream",
     "text": [
      "<>:14: SyntaxWarning: \"is\" with a literal. Did you mean \"==\"?\n",
      "<>:14: SyntaxWarning: \"is\" with a literal. Did you mean \"==\"?\n",
      "<ipython-input-6-11b7735d5e48>:14: SyntaxWarning: \"is\" with a literal. Did you mean \"==\"?\n",
      "  if faces is ():\n"
     ]
    },
    {
     "name": "stdout",
     "output_type": "stream",
     "text": [
      "launching aws instance for you.....\n"
     ]
    }
   ],
   "source": [
    "import cv2\n",
    "import numpy as np\n",
    "import subprocess\n",
    "import time\n",
    "import os\n",
    "\n",
    "face_classifier = cv2.CascadeClassifier('haarcascade_frontalface_default.xml')\n",
    "\n",
    "def face_detector(img, size=0.5):\n",
    "    \n",
    "    # Convert image to grayscale\n",
    "    gray = cv2.cvtColor(img,cv2.COLOR_BGR2GRAY)\n",
    "    faces = face_classifier.detectMultiScale(gray, 1.3, 5)\n",
    "    if faces is ():\n",
    "        return img, []\n",
    "    \n",
    "    \n",
    "    for (x,y,w,h) in faces:\n",
    "        cv2.rectangle(img,(x,y),(x+w,y+h),(0,255,255),2)\n",
    "        roi = img[y:y+h, x:x+w]\n",
    "        roi = cv2.resize(roi, (200, 200))\n",
    "    return img, roi\n",
    "\n",
    "\n",
    "# Open Webcam\n",
    "cap = cv2.VideoCapture(0)\n",
    "\n",
    "while True:\n",
    "\n",
    "    ret, frame = cap.read()\n",
    "    \n",
    "    image, face = face_detector(frame)\n",
    "    \n",
    "    try:\n",
    "        face = cv2.cvtColor(face, cv2.COLOR_BGR2GRAY)\n",
    "\n",
    "        # Pass face to prediction model\n",
    "        # \"results\" comprises of a tuple containing the label and the confidence value\n",
    "        results = model.predict(face)\n",
    "        # harry_model.predict(face)\n",
    "        \n",
    "        if results[1] < 500:\n",
    "            confidence = int( 100 * (1 - (results[1])/400) )\n",
    "            display_string = str(confidence) + '% Confident it is User'\n",
    "            \n",
    "        cv2.putText(image, display_string, (100, 120), cv2.FONT_HERSHEY_COMPLEX, 1, (255,120,150), 2)\n",
    "        \n",
    "        if confidence > 85:\n",
    "            cv2.putText(image, \"Hiii sonal\", (250, 450), cv2.FONT_HERSHEY_COMPLEX, 1, (0,255,0), 2)\n",
    "            cv2.imshow('Face Recognition', image)\n",
    "      \n",
    "            print(\"launching aws instance for you.....\")\n",
    "            \n",
    "            os.system(\"aws ec2 create-key-pair --key-name summertask6\")\n",
    "            \n",
    "            def instance_launch():\n",
    "                i_id = subprocess.getoutput(\"aws ec2 run-instances  --region ap-south-1  --image-id ami-0ad704c126371a549  --instance-type t2.micro --count 1  --key-name summertask6  --query Instances[*].[InstanceId] --output text\")\n",
    "                print(\"EC2 Instance with instance id : {} created successfully\".format(i_id))\n",
    "\n",
    "            def volume_creation():\n",
    "                az = input(\"Enter the availability zone of running instance.. : \")\n",
    "                v_id = subprocess.getoutput(\"aws ec2 create-volume  --region ap-south-1  --volume-type gp2 --size 5 --availability-zone \" + az + \" --query VolumeId --output text\")\n",
    "                print(\"Created 5GB EBS Volume with volume id : {} created\".format(v_id))\n",
    "                time.sleep(15)\n",
    "                \n",
    "                \n",
    "            def attach():\n",
    "                i_id = input(\"Enter instance id: \")\n",
    "                v_id = input(\"Enter volume id: \")\n",
    "                os.system(\"aws ec2 attach-volume --device /dev/xvdf --instance-id  \" + i_id +\" --volume-id \" + v_id + \" \")\n",
    "                print(\"EBS volume Attached successfully to the newly created instance\")\n",
    "\n",
    "            \n",
    "            break\n",
    "         \n",
    "        else:\n",
    "            \n",
    "            cv2.putText(image, \"I dont know, how r u\", (250, 450), cv2.FONT_HERSHEY_COMPLEX, 1, (255,0,255), 2)\n",
    "            cv2.imshow('Face Recognition', image )\n",
    "\n",
    "    except:\n",
    "        cv2.putText(image, \"No Face Found\", (220, 120) , cv2.FONT_HERSHEY_COMPLEX, 1, (0,255,255), 2)\n",
    "        cv2.putText(image, \"looking for face\", (250, 450), cv2.FONT_HERSHEY_COMPLEX, 1, (255,0,255), 2)\n",
    "        cv2.imshow('Face Recognition', image )\n",
    "        pass\n",
    "        \n",
    "    if cv2.waitKey(1) == 13: #13 is the Enter Key\n",
    "        break\n",
    "        \n",
    "cap.release()\n",
    "cv2.destroyAllWindows()     "
   ]
  },
  {
   "cell_type": "code",
   "execution_count": 7,
   "id": "2f24dffa",
   "metadata": {},
   "outputs": [
    {
     "name": "stdout",
     "output_type": "stream",
     "text": [
      "EC2 Instance with instance id : i-04b011757e823fb87 created successfully\n"
     ]
    }
   ],
   "source": [
    "instance_launch() #calling function for creating ec2 instance"
   ]
  },
  {
   "cell_type": "code",
   "execution_count": null,
   "id": "6389d327",
   "metadata": {},
   "outputs": [],
   "source": [
    "volume_creation()#creating 5gb ebs volume "
   ]
  },
  {
   "cell_type": "code",
   "execution_count": null,
   "id": "b54f7112",
   "metadata": {},
   "outputs": [],
   "source": [
    "attach()#attaching volume with the instance created"
   ]
  },
  {
   "cell_type": "code",
   "execution_count": null,
   "id": "f4e971f2",
   "metadata": {},
   "outputs": [],
   "source": [
    "attach()\n"
   ]
  },
  {
   "cell_type": "markdown",
   "id": "7ebb917d",
   "metadata": {},
   "source": [
    "# Thank you:)"
   ]
  },
  {
   "cell_type": "code",
   "execution_count": null,
   "id": "2bfb8d55",
   "metadata": {},
   "outputs": [],
   "source": []
  }
 ],
 "metadata": {
  "kernelspec": {
   "display_name": "Python 3",
   "language": "python",
   "name": "python3"
  },
  "language_info": {
   "codemirror_mode": {
    "name": "ipython",
    "version": 3
   },
   "file_extension": ".py",
   "mimetype": "text/x-python",
   "name": "python",
   "nbconvert_exporter": "python",
   "pygments_lexer": "ipython3",
   "version": "3.8.8"
  }
 },
 "nbformat": 4,
 "nbformat_minor": 5
}
